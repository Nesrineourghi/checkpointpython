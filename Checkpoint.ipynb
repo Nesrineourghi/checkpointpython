{
  "nbformat": 4,
  "nbformat_minor": 0,
  "metadata": {
    "colab": {
      "name": "Checkpoint.ipynb",
      "provenance": [],
      "collapsed_sections": []
    },
    "kernelspec": {
      "name": "python3",
      "display_name": "Python 3"
    },
    "language_info": {
      "name": "python"
    }
  },
  "cells": [
    {
      "cell_type": "code",
      "execution_count": 12,
      "metadata": {
        "id": "RrgbGo7TohAe",
        "colab": {
          "base_uri": "https://localhost:8080/"
        },
        "outputId": "61ad68b7-01a5-4921-c736-dc6c35805d49"
      },
      "outputs": [
        {
          "output_type": "stream",
          "name": "stdout",
          "text": [
            "[2002, 2009, 2016, 2023, 2030, 2037, 2044, 2051, 2058, 2065, 2072, 2079, 2086, 2093, 2100, 2107, 2114, 2121, 2128, 2135, 2142, 2149, 2156, 2163, 2170, 2177, 2184, 2191, 2198, 2205, 2212, 2219, 2226, 2233, 2240, 2247, 2254, 2261, 2268, 2275, 2282, 2289, 2296, 2303, 2310, 2317, 2324, 2331, 2338, 2345, 2352, 2359, 2366, 2373, 2380, 2387, 2394, 2401, 2408, 2415, 2422, 2429, 2436, 2443, 2450, 2457, 2464, 2471, 2478, 2485, 2492, 2499, 2506, 2513, 2520, 2527, 2534, 2541, 2548, 2555, 2562, 2569, 2576, 2583, 2590, 2597, 2604, 2611, 2618, 2625, 2632, 2639, 2646, 2653, 2660, 2667, 2674, 2681, 2688, 2695, 2702, 2709, 2716, 2723, 2730, 2737, 2744, 2751, 2758, 2765, 2772, 2779, 2786, 2793, 2800, 2807, 2814, 2821, 2828, 2835, 2842, 2849, 2856, 2863, 2870, 2877, 2884, 2891, 2898, 2905, 2912, 2919, 2926, 2933, 2940, 2947, 2954, 2961, 2968, 2975, 2982, 2989, 2996, 3003, 3010, 3017, 3024, 3031, 3038, 3045, 3052, 3059, 3066, 3073, 3080, 3087, 3094, 3101, 3108, 3115, 3122, 3129, 3136, 3143, 3150, 3157, 3164, 3171, 3178, 3185, 3192, 3199]\n"
          ]
        }
      ],
      "source": [
        "#1 Write a program that will find all numbers which are divisible by 7 but are not a multiple of 5, between 2000 and 3200 (both included).\n",
        "# The numbers obtained should be printed in a list.\n",
        "# Hints: Consider using the range(#begin, #end) method.\n",
        "\n",
        "liste=[]\n",
        "for i in range(2000,3200):\n",
        "\n",
        "  if i%7==0 and i%5!=5 :\n",
        "    liste.append(i)\n",
        "print(liste)\n",
        "\n",
        "\n",
        "    \n",
        "  \n",
        "  \n",
        "   "
      ]
    },
    {
      "cell_type": "code",
      "source": [
        "# Write a program that can compute the factorial of a given number. (the factorial of n is the product of all positive integers less than or equal to n).\n",
        "# for example factorial(5)= 5 x 4 x 3 x 2 x 1 the result is 120.  (i.e. factorial (0)=1)\n",
        "\n",
        "\n",
        "x=int(input(\"entrer une variable \"))\n",
        "def factorial(x):\n",
        "  if x == 0:\n",
        "        return 1 \n",
        "  return x * factorial(x-1) \n",
        "        \n",
        "factorial(x)\n",
        "  \n",
        "\n",
        "\n",
        "\n",
        "\n",
        "\n"
      ],
      "metadata": {
        "colab": {
          "base_uri": "https://localhost:8080/"
        },
        "id": "b4tY5RGXXZEV",
        "outputId": "afb9073f-564e-4d8b-ed0b-b4db57019594"
      },
      "execution_count": null,
      "outputs": [
        {
          "name": "stdout",
          "output_type": "stream",
          "text": [
            "entrer une variable 5\n"
          ]
        },
        {
          "output_type": "execute_result",
          "data": {
            "text/plain": [
              "120"
            ]
          },
          "metadata": {},
          "execution_count": 122
        }
      ]
    },
    {
      "cell_type": "code",
      "source": [
        "#With a given integer number n, write a program to generate a dictionary that contains (i, i*i) such that is an integral number between 1 and n (both included).\n",
        "# and then the program should print the dictionary. Suppose the following input is supplied to the program: 8\n",
        "# Then, the output should be: {1: 1, 2: 4, 3: 9, 4: 16, 5: 25, 6: 36, 7: 49, 8: 64}  \n",
        "\n",
        "MyDict={}\n",
        "i=int(input(\"entrer une variable \"))\n",
        "for j in range(1,i+1):\n",
        "   \n",
        "   MyDict[j]=j*j\n",
        "MyDict\n",
        "\n"
      ],
      "metadata": {
        "colab": {
          "base_uri": "https://localhost:8080/"
        },
        "id": "Dj9mu_5ucvNn",
        "outputId": "7ba9cbde-69a6-4190-98b2-a502bed74002"
      },
      "execution_count": 16,
      "outputs": [
        {
          "name": "stdout",
          "output_type": "stream",
          "text": [
            "entrer une variable 5\n"
          ]
        },
        {
          "output_type": "execute_result",
          "data": {
            "text/plain": [
              "{1: 1, 2: 4, 3: 9, 4: 16, 5: 25}"
            ]
          },
          "metadata": {},
          "execution_count": 16
        }
      ]
    },
    {
      "cell_type": "code",
      "source": [
        "#Given a non-empty string and an int n, return a new    The value of n will be a valid index of a char in \n",
        "#the original string (i.e. n will be in the range 0..len(str)-1 inclusive). \n",
        "#missing_char('kitten', 1) → 'ktten'    for example here we remove \"i\" which is located in the index 1\n",
        "#missing_char('kitten', 0) → 'itten'   here we remove \"k\" which is in the index 0\n",
        "#missing_char('kitten', 4) → 'kittn'   here we remove \"e\" which is in the index 4\n",
        "\n",
        "m=str(input(\"la chaine =\"))\n",
        "n=int(input(\"l'index =\"))\n",
        "print(\"missing char =(\",m,\",\" ,n,\")\")\n",
        "def deletee(m, n):\n",
        "   return m[:n]+m[n+1:]\n",
        "print(deletee(m,n)) \n",
        "\n",
        "\n",
        "\n"
      ],
      "metadata": {
        "colab": {
          "base_uri": "https://localhost:8080/"
        },
        "id": "sWfl3HMPxrHv",
        "outputId": "7a8be8e8-e823-4d0c-b3a7-2fb9d31ef758"
      },
      "execution_count": null,
      "outputs": [
        {
          "output_type": "stream",
          "name": "stdout",
          "text": [
            "la chaine =nesrine\n",
            "l'index =3\n",
            "missing char =( nesrine , 3 )\n",
            "nesine\n"
          ]
        }
      ]
    },
    {
      "cell_type": "code",
      "source": [
        "#Write a NumPy program to convert a NumPy array into a Python list structure.\n",
        "#Expected Output: \n",
        "#Original array elements: [[0 1] [2 3] [4 5]] \n",
        "#Array to list: [[0, 1], [2, 3], [4, 5]] \n",
        "#Hint: we can use the to_list() function to ensure the conversion.\n",
        "\n",
        "import numpy as np\n",
        "tab1=np.array([[0,1],[2,3],[4,5]])\n",
        "print(\"Original array elements:\",tab1)\n",
        "print(\"Array to list:\",tab1.tolist())\n"
      ],
      "metadata": {
        "colab": {
          "base_uri": "https://localhost:8080/"
        },
        "id": "HKsUZkMjDgDs",
        "outputId": "865a3610-3b4d-4600-f2f4-411e88cefa6b"
      },
      "execution_count": null,
      "outputs": [
        {
          "output_type": "stream",
          "name": "stdout",
          "text": [
            "Original array elements: [[0 1]\n",
            " [2 3]\n",
            " [4 5]]\n",
            "Array to list: [[0, 1], [2, 3], [4, 5]]\n"
          ]
        }
      ]
    },
    {
      "cell_type": "code",
      "source": [
        "#Write a NumPy program to compute the covariance matrix of two given arrays. \n",
        "#Original array1: [0 1 2] \n",
        "#Original array2: [2 1 0] \n",
        "#Covariance matrix of the said arrays: [[ 1. -1.] [-1. 1.]]\n",
        "#Hint: We can use the np.cov() function to calculate the covariance between these two arrays\n",
        "\n",
        "import numpy as np\n",
        "tab1=np.array([0,1,2])\n",
        "tab2=np.array([2,1,0])\n",
        "matrice=np.cov(tab1,tab2)\n",
        "matrice\n"
      ],
      "metadata": {
        "id": "B0nqyVFBfNYa",
        "colab": {
          "base_uri": "https://localhost:8080/"
        },
        "outputId": "f8280879-d812-4c0a-8935-35a5a41f8d10"
      },
      "execution_count": 20,
      "outputs": [
        {
          "output_type": "execute_result",
          "data": {
            "text/plain": [
              "array([[ 1., -1.],\n",
              "       [-1.,  1.]])"
            ]
          },
          "metadata": {},
          "execution_count": 20
        }
      ]
    },
    {
      "cell_type": "code",
      "source": [
        "#Question: Write a program that calculates and prints the value according to the given formula: Q = Square root of [(2 * C * D)/H] \n",
        "#The following are the fixed values of C and H: C is 50. H is 30. \n",
        "#D is the variable whose values should be input into your program in a comma-separated sequence. (that means D contains more than value)\n",
        "#Example Let's assume the following comma-separated input sequence is given to the program: 100,150,180 The output of the program should be: 18,22,24 \n",
        "#To further explain this, we will obtain a result for each value of D:\n",
        "# Q1= Square root of [(2 * C * 100)/H] =18, Q2= Square root of [(2 * C * 150)/H] = 22 and Q3 = Square root of [(2 * C * 180)/H]  = 24\n",
        "#Hints: If the output received is in decimal form, it should be rounded off to its nearest value (for example, if the output received is 26.0, \n",
        "#it should be printed as 26) In case of input data being supplied to the question, it should be assumed to be a console input. \n",
        "\n",
        "import math \n",
        "def racinecarré():\n",
        "    C=50\n",
        "    H=30\n",
        "    resultat=[]\n",
        "  #split pour la separartion\n",
        "    D=[i for i in input().split(\",\")]\n",
        "    for j in D :\n",
        "  #append nzid haja wala n3abiha\n",
        "  #round pou le rendre un chiffre rond\n",
        "        resultat.append(str(int(round(math.sqrt(2*C*float(j)/H)))))\n",
        "#join pour les regreper de nouveau\n",
        "    return (','.join(resultat))\n",
        "racinecarré()\n"
      ],
      "metadata": {
        "id": "UfpdYrvVf-gH",
        "colab": {
          "base_uri": "https://localhost:8080/",
          "height": 54
        },
        "outputId": "2cf1aaaf-e3c0-4b9a-b9e3-85d1a6637927"
      },
      "execution_count": 42,
      "outputs": [
        {
          "name": "stdout",
          "output_type": "stream",
          "text": [
            "100,150,180\n"
          ]
        },
        {
          "output_type": "execute_result",
          "data": {
            "application/vnd.google.colaboratory.intrinsic+json": {
              "type": "string"
            },
            "text/plain": [
              "'18,22,24'"
            ]
          },
          "metadata": {},
          "execution_count": 42
        }
      ]
    },
    {
      "cell_type": "code",
      "source": [
        "import math\n",
        "def calcul():\n",
        "    c=50\n",
        "    h=30\n",
        "    value = []\n",
        "    items=[x for x in input().split(',')]\n",
        "    for d in items:\n",
        "        value.append(str(int(round(math.sqrt(2*c*float(d)/h)))))\n",
        "    return(','.join(value))\n",
        "calcul()"
      ],
      "metadata": {
        "colab": {
          "base_uri": "https://localhost:8080/",
          "height": 54
        },
        "id": "8NO7Wq5rQJjR",
        "outputId": "ef5e5052-2bf0-4679-ec31-4ac2e3cac33f"
      },
      "execution_count": 39,
      "outputs": [
        {
          "name": "stdout",
          "output_type": "stream",
          "text": [
            "100,150,180\n"
          ]
        },
        {
          "output_type": "execute_result",
          "data": {
            "application/vnd.google.colaboratory.intrinsic+json": {
              "type": "string"
            },
            "text/plain": [
              "'18,22,24'"
            ]
          },
          "metadata": {},
          "execution_count": 39
        }
      ]
    },
    {
      "cell_type": "code",
      "source": [
        ""
      ],
      "metadata": {
        "id": "H2yHf2eBUIbR"
      },
      "execution_count": null,
      "outputs": []
    }
  ]
}